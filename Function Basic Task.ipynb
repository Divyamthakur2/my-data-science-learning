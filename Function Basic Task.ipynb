{
 "cells": [
  {
   "cell_type": "markdown",
   "id": "a63234cc",
   "metadata": {},
   "source": [
    "![img](https://ytu-cvlab.github.io/mce-51069/images/copied_from_nb/images/function.jpeg)"
   ]
  },
  {
   "cell_type": "markdown",
   "id": "0f0c84d1",
   "metadata": {},
   "source": [
    "# What is the Syntac of user-defined function?"
   ]
  },
  {
   "cell_type": "code",
   "execution_count": 23,
   "id": "5c7664de",
   "metadata": {},
   "outputs": [
    {
     "ename": "SyntaxError",
     "evalue": "invalid syntax (3761431249.py, line 3)",
     "output_type": "error",
     "traceback": [
      "\u001b[1;36m  Cell \u001b[1;32mIn[23], line 3\u001b[1;36m\u001b[0m\n\u001b[1;33m    def:\u001b[0m\n\u001b[1;37m       ^\u001b[0m\n\u001b[1;31mSyntaxError\u001b[0m\u001b[1;31m:\u001b[0m invalid syntax\n"
     ]
    }
   ],
   "source": [
    "# Write Syntac below\n",
    "\n",
    "def\n",
    "return\n",
    "\n",
    "\n",
    "\n",
    "\n"
   ]
  },
  {
   "cell_type": "markdown",
   "id": "95a82df7",
   "metadata": {},
   "source": [
    "# Task 1: Define a Function"
   ]
  },
  {
   "cell_type": "code",
   "execution_count": null,
   "id": "102b3ecb",
   "metadata": {},
   "outputs": [],
   "source": [
    "# Define a function called `greet` that takes a single parameter `name`.\n",
    "# The purpose of this function is to print a greeting message that says \"Hello, [name]!\".\n",
    "# For example, calling greet(\"Alice\") should output \"Hello, Alice!\"."
   ]
  },
  {
   "cell_type": "code",
   "execution_count": 14,
   "id": "902c8d46",
   "metadata": {},
   "outputs": [
    {
     "name": "stdout",
     "output_type": "stream",
     "text": [
      "\"Hello, Alice!\"\n"
     ]
    }
   ],
   "source": [
    "# Write your code here\n",
    "\n",
    "def greet(name):\n",
    "    return '\"Hello, ' + name + '!\"'\n",
    "message = greet(\"Alice\")\n",
    "print(message)\n"
   ]
  },
  {
   "cell_type": "markdown",
   "id": "691a4aa0",
   "metadata": {},
   "source": [
    "# Task 2: Call the Function"
   ]
  },
  {
   "cell_type": "code",
   "execution_count": 1,
   "id": "8db69a6b",
   "metadata": {},
   "outputs": [],
   "source": [
    "# After defining the function, call it with different names to see the output.\n",
    "# You should call the function at least three times with different names"
   ]
  },
  {
   "cell_type": "code",
   "execution_count": 20,
   "id": "4dcb10ba",
   "metadata": {},
   "outputs": [
    {
     "name": "stdout",
     "output_type": "stream",
     "text": [
      "\"Hello, Anup!\"\n",
      "\"Hello, Jhon!\"\n",
      "\"Hello, Dev!\"\n"
     ]
    }
   ],
   "source": [
    "# Write your code here\n",
    "\n",
    "print(greet(\"Anup\"))\n",
    "print(greet(\"Jhon\"))\n",
    "print(greet(\"Dev\"))\n",
    "\n",
    "\n"
   ]
  },
  {
   "cell_type": "markdown",
   "id": "ba477a96",
   "metadata": {},
   "source": [
    "# Task 3: Experiment with Different Inputs"
   ]
  },
  {
   "cell_type": "code",
   "execution_count": 22,
   "id": "2f3d4ca0",
   "metadata": {},
   "outputs": [
    {
     "name": "stdout",
     "output_type": "stream",
     "text": [
      "\"Hello, Dave!\"\n",
      "\"Hello, !\"\n",
      "\"Hello, !@#!\"\n"
     ]
    },
    {
     "ename": "TypeError",
     "evalue": "can only concatenate str (not \"int\") to str",
     "output_type": "error",
     "traceback": [
      "\u001b[1;31m---------------------------------------------------------------------------\u001b[0m",
      "\u001b[1;31mTypeError\u001b[0m                                 Traceback (most recent call last)",
      "Cell \u001b[1;32mIn[22], line 18\u001b[0m\n\u001b[0;32m     14\u001b[0m \u001b[38;5;28mprint\u001b[39m(greet(\u001b[38;5;124m\"\u001b[39m\u001b[38;5;124m!@#\u001b[39m\u001b[38;5;124m\"\u001b[39m))\n\u001b[0;32m     16\u001b[0m \u001b[38;5;66;03m# - A non-string input (e.g., greet(123))\u001b[39;00m\n\u001b[1;32m---> 18\u001b[0m \u001b[38;5;28mprint\u001b[39m(greet(\u001b[38;5;241m123\u001b[39m))\n",
      "Cell \u001b[1;32mIn[14], line 4\u001b[0m, in \u001b[0;36mgreet\u001b[1;34m(name)\u001b[0m\n\u001b[0;32m      3\u001b[0m \u001b[38;5;28;01mdef\u001b[39;00m \u001b[38;5;21mgreet\u001b[39m(name):\n\u001b[1;32m----> 4\u001b[0m     \u001b[38;5;28;01mreturn\u001b[39;00m \u001b[38;5;124m'\u001b[39m\u001b[38;5;124m\"\u001b[39m\u001b[38;5;124mHello, \u001b[39m\u001b[38;5;124m'\u001b[39m \u001b[38;5;241m+\u001b[39m name \u001b[38;5;241m+\u001b[39m \u001b[38;5;124m'\u001b[39m\u001b[38;5;124m!\u001b[39m\u001b[38;5;124m\"\u001b[39m\u001b[38;5;124m'\u001b[39m\n",
      "\u001b[1;31mTypeError\u001b[0m: can only concatenate str (not \"int\") to str"
     ]
    }
   ],
   "source": [
    "# Try calling the `greet` function with different types of inputs: \n",
    "# and observe and note down what happens with each type of input.\n",
    "\n",
    "\n",
    "# - A string with a different name (e.g., greet(\"Dave\"))\n",
    "print(greet(\"Dave\"))\n",
    "\n",
    "\n",
    "# - An empty string (e.g., greet(\"\"))\n",
    "\n",
    "print(greet(\"\"))\n",
    "\n",
    "# - A string with special characters (e.g., greet(\"!@#\"))\n",
    "print(greet(\"!@#\"))\n",
    "\n",
    "# - A non-string input (e.g., greet(123))\n",
    "\n",
    "print(greet(123))\n"
   ]
  },
  {
   "cell_type": "markdown",
   "id": "760f2010",
   "metadata": {},
   "source": [
    "# Write down your observations on how the `greet` function behaves with different inputs.\n",
    "\n",
    "# and write in paragraph about what you undestood about function"
   ]
  },
  {
   "cell_type": "markdown",
   "id": "3b41e932-c86d-4882-9b94-58be75e01e32",
   "metadata": {},
   "source": [
    "greet(\"Dave\") : The function constructs a greeting message by concatenating \"Hello, \" with the provided name \"Dave\", and encloses the message in inverted commas (\"). The output is \"Hello, Dave!\".\n",
    "greet(\"\") : The function accepts an empty string as input. It concatenates \"Hello, \" with the empty string \"\", resulting in \"Hello, !\". Inverted commas (\") are still present around the empty string.\n",
    "greet(\"!@#\") : The function handles strings containing special characters (!@#) like any other string input. It constructs a greeting message with the special characters included, resulting in \"Hello, !@#!\".\n",
    "greet(123) : When passed a non-string input (integer 123), the function raises a TypeError. This occurs because the function attempts to concatenate a string (\"Hello, \") with an integer (123), which Python does not allow."
   ]
  },
  {
   "cell_type": "code",
   "execution_count": null,
   "id": "03a51105-8d7c-4ef4-8fc7-3709848d9704",
   "metadata": {},
   "outputs": [],
   "source": []
  }
 ],
 "metadata": {
  "kernelspec": {
   "display_name": "Python 3 (ipykernel)",
   "language": "python",
   "name": "python3"
  },
  "language_info": {
   "codemirror_mode": {
    "name": "ipython",
    "version": 3
   },
   "file_extension": ".py",
   "mimetype": "text/x-python",
   "name": "python",
   "nbconvert_exporter": "python",
   "pygments_lexer": "ipython3",
   "version": "3.11.7"
  }
 },
 "nbformat": 4,
 "nbformat_minor": 5
}
