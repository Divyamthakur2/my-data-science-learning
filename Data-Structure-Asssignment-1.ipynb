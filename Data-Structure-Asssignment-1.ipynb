{
 "cells": [
  {
   "cell_type": "markdown",
   "id": "7c6627e5",
   "metadata": {},
   "source": [
    "## Data Structure Task\n",
    "![](https://devopedia.org/images/article/41/8174.1595680354.png)\n",
    "\n",
    "\n",
    "\n"
   ]
  },
  {
   "cell_type": "markdown",
   "id": "21cf4040",
   "metadata": {},
   "source": [
    "# List"
   ]
  },
  {
   "cell_type": "code",
   "execution_count": 14,
   "id": "80157d46",
   "metadata": {},
   "outputs": [
    {
     "name": "stdout",
     "output_type": "stream",
     "text": [
      "banana\n",
      "['apple', 'banana', 'orange', 'pineapple', 'mango']\n"
     ]
    }
   ],
   "source": [
    "# Creation: Create a list of your favorite fruits\n",
    "fruit = [\"apple\", \"banana\", \"beatroot\", \"pineapple\", \"mango\"]\n",
    "\n",
    "# Access: Access the second item in the list.\n",
    "print(fruit[1])\n",
    "\n",
    "\n",
    "# Update: Change the third item to \"orange\".\n",
    "\n",
    "fruit[2] = \"orange\"\n",
    "print(fruit)\n",
    "\n",
    "#Remove: Remove the first item from the list.\n"
   ]
  },
  {
   "cell_type": "markdown",
   "id": "060b720b",
   "metadata": {},
   "source": [
    "# Tuples"
   ]
  },
  {
   "cell_type": "code",
   "execution_count": 16,
   "id": "2b40264b",
   "metadata": {
    "scrolled": true
   },
   "outputs": [
    {
     "name": "stdout",
     "output_type": "stream",
     "text": [
      "yellow\n"
     ]
    },
    {
     "ename": "TypeError",
     "evalue": "'tuple' object does not support item assignment",
     "output_type": "error",
     "traceback": [
      "\u001b[1;31m---------------------------------------------------------------------------\u001b[0m",
      "\u001b[1;31mTypeError\u001b[0m                                 Traceback (most recent call last)",
      "Cell \u001b[1;32mIn[16], line 8\u001b[0m\n\u001b[0;32m      6\u001b[0m \u001b[38;5;28mprint\u001b[39m(three_colors[\u001b[38;5;241m2\u001b[39m])\n\u001b[0;32m      7\u001b[0m \u001b[38;5;66;03m# Update: Try to change the second item to \"yellow\" and observe what happens. Expect something error\u001b[39;00m\n\u001b[1;32m----> 8\u001b[0m three_colors[\u001b[38;5;241m2\u001b[39m] \u001b[38;5;241m=\u001b[39m \u001b[38;5;124m\"\u001b[39m\u001b[38;5;124morange\u001b[39m\u001b[38;5;124m\"\u001b[39m\n\u001b[0;32m      9\u001b[0m \u001b[38;5;28mprint\u001b[39m(three_colors)\n",
      "\u001b[1;31mTypeError\u001b[0m: 'tuple' object does not support item assignment"
     ]
    }
   ],
   "source": [
    "# Creation: Create a tuple with three different colors.\n",
    "\n",
    "three_colors =(\"red\",\"black\",\"yellow\")\n",
    "\n",
    "# Access: Access the third item in the tuple.\n",
    "print(three_colors[2])\n",
    "# Update: Try to change the second item to \"yellow\" and observe what happens. Expect something error\n",
    "three_colors[2] = \"orange\"\n",
    "print(three_colors)\n",
    "\n",
    "# Remove: Give reason why you can or can't\n",
    "'tuple' object does not support item assignment"
   ]
  },
  {
   "cell_type": "markdown",
   "id": "d9af3178",
   "metadata": {},
   "source": [
    "# SET"
   ]
  },
  {
   "cell_type": "code",
   "execution_count": 23,
   "id": "c38b08db",
   "metadata": {},
   "outputs": [
    {
     "name": "stdout",
     "output_type": "stream",
     "text": [
      "False\n",
      "{'007', 'Miracle in cell', 'DDLJ', '1984'}\n",
      "{'007', 'Miracle in cell', 'DDLJ'}\n"
     ]
    }
   ],
   "source": [
    "# Creation: Create a set of your favorite movies\n",
    "\n",
    "fav_movies = {\"007\", \"1984\", \"DDLJ\"}\n",
    "\n",
    "\n",
    "\n",
    "# Access: Check if your \"Toy Car\" is in the set.\n",
    "print(\"Toy Car\" in fav_movies)\n",
    "\n",
    "\n",
    "# Update: Add \"Miracle in Cell\" to the set.\n",
    "\n",
    "fav_movies.add(\"Miracle in cell\")\n",
    "print(fav_movies)\n",
    "\n",
    "# Remove: Remove your least favorite movies.\n",
    "fav_movies.remove(\"1984\")\n",
    "print(fav_movies)"
   ]
  },
  {
   "cell_type": "markdown",
   "id": "77344d89",
   "metadata": {},
   "source": [
    "# Dictionary"
   ]
  },
  {
   "cell_type": "code",
   "execution_count": 33,
   "id": "02ece1f6",
   "metadata": {},
   "outputs": [
    {
     "name": "stdout",
     "output_type": "stream",
     "text": [
      "62\n",
      "{'name': 'Ram', 'age': 62, 'city': 'Los Angeles'}\n",
      "{'name': 'Ram', 'city': 'Los Angeles'}\n"
     ]
    }
   ],
   "source": [
    "# Creation: Create a dictionary with three key-value pairs representing a person's details (e.g., name, age, city).\n",
    "\n",
    "personal_details = {\"name\": \"Ram\", \"age\": 62, \"city\": \"KTM\"}\n",
    "\n",
    "\n",
    "# Access: Access the person's age.\n",
    "\n",
    "print(personal_details[\"age\"])\n",
    "\n",
    "# Update: Update the person's city to \"Los Angeles\".\n",
    "personal_details[\"city\"]  = \"Los Angeles\"\n",
    "print(personal_details)\n",
    "\n",
    "# Remove: Remove the age key-value pair from the dictionary.\n",
    "del personal_details[\"age\"]\n",
    "print(personal_details)"
   ]
  },
  {
   "cell_type": "markdown",
   "id": "500d56c1",
   "metadata": {},
   "source": [
    "# List Compression"
   ]
  },
  {
   "cell_type": "code",
   "execution_count": 43,
   "id": "24463269",
   "metadata": {},
   "outputs": [
    {
     "name": "stdout",
     "output_type": "stream",
     "text": [
      "[1, 4, 9, 16, 25, 36, 49, 64, 81, 100]\n"
     ]
    }
   ],
   "source": [
    "# Create a list of squares of numbers from 1 to 10.\n",
    "numbers = [1, 2, 3, 4, 5, 6, 7, 8, 9, 10]\n",
    "squares = []\n",
    "for number in numbers:\n",
    "    squares.append(number ** 2)\n",
    "print(squares)\n",
    "\n",
    "    \n",
    "\n"
   ]
  },
  {
   "cell_type": "code",
   "execution_count": 44,
   "id": "045e1139",
   "metadata": {},
   "outputs": [
    {
     "name": "stdout",
     "output_type": "stream",
     "text": [
      "['HELLO', 'WORLD', 'PYTHON', 'LIST', 'COMPREHENSION']\n"
     ]
    }
   ],
   "source": [
    "# Explain in the markdown what is happening in this code\n",
    "\n",
    "words = [\"hello\", \"world\", \"python\", \"list\", \"comprehension\"]\n",
    "uppercase_words = [word.upper() for word in words]\n",
    "print(uppercase_words)"
   ]
  },
  {
   "cell_type": "markdown",
   "id": "ba2862ba",
   "metadata": {},
   "source": [
    "> Submit to the email"
   ]
  },
  {
   "cell_type": "markdown",
   "id": "ec934c15",
   "metadata": {},
   "source": [
    "Recommended Reading\n",
    "\n",
    "https://www.stationx.net/python-data-structures-cheat-sheet/"
   ]
  },
  {
   "cell_type": "markdown",
   "id": "78abb880-66a0-422c-b2b7-729577962c0f",
   "metadata": {},
   "source": [
    "The letters in the list of the words has been converted to upper case, using for loop and .upper, method"
   ]
  }
 ],
 "metadata": {
  "kernelspec": {
   "display_name": "Python 3 (ipykernel)",
   "language": "python",
   "name": "python3"
  },
  "language_info": {
   "codemirror_mode": {
    "name": "ipython",
    "version": 3
   },
   "file_extension": ".py",
   "mimetype": "text/x-python",
   "name": "python",
   "nbconvert_exporter": "python",
   "pygments_lexer": "ipython3",
   "version": "3.11.7"
  }
 },
 "nbformat": 4,
 "nbformat_minor": 5
}
